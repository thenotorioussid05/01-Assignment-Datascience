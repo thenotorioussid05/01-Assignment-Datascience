{
 "cells": [
  {
   "cell_type": "code",
   "execution_count": 5,
   "id": "75f3fbf2-f21c-4aa2-aea6-d63291c588f8",
   "metadata": {},
   "outputs": [],
   "source": [
    "#Question 6. Create a list containing 25 int type data. Using for loop and if-else condition print if the element is\n",
    "#divisible by 3 or not."
   ]
  },
  {
   "cell_type": "code",
   "execution_count": 2,
   "id": "1a21a156-f72b-440f-91e4-7ce1d1ea109f",
   "metadata": {},
   "outputs": [
    {
     "name": "stdout",
     "output_type": "stream",
     "text": [
      "21 is divisible by 3\n",
      "24 is divisible by 3\n",
      "32 is not divisible by 3\n",
      "234 is divisible by 3\n",
      "874 is not divisible by 3\n",
      "58 is not divisible by 3\n",
      "355 is not divisible by 3\n",
      "123 is divisible by 3\n",
      "432 is divisible by 3\n",
      "587 is not divisible by 3\n",
      "967 is not divisible by 3\n",
      "1124 is not divisible by 3\n",
      "908 is not divisible by 3\n",
      "456 is divisible by 3\n",
      "764 is not divisible by 3\n",
      "243 is divisible by 3\n",
      "109 is not divisible by 3\n",
      "5678 is not divisible by 3\n",
      "456 is divisible by 3\n",
      "6969 is divisible by 3\n",
      "908 is not divisible by 3\n",
      "367 is not divisible by 3\n",
      "9001 is not divisible by 3\n",
      "1923 is divisible by 3\n",
      "457 is not divisible by 3\n"
     ]
    }
   ],
   "source": [
    "# Create a list of 25 integers\n",
    "nums = [21,24,32,234,874,58,355,123,432,587,967,1124,908,456,764,243,109,5678,456,6969,908,367,9001,1923,457]\n",
    "\n",
    "# Check if each element in the list is divisible by 3 or not using a for loop\n",
    "for num in nums:\n",
    "    if num % 3 == 0:\n",
    "        print(num, \"is divisible by 3\")\n",
    "    else:\n",
    "        print(num, \"is not divisible by 3\")"
   ]
  },
  {
   "cell_type": "code",
   "execution_count": null,
   "id": "dcee832a-9a1d-4cd9-8532-5f9f79963054",
   "metadata": {},
   "outputs": [],
   "source": []
  }
 ],
 "metadata": {
  "kernelspec": {
   "display_name": "Python 3 (ipykernel)",
   "language": "python",
   "name": "python3"
  },
  "language_info": {
   "codemirror_mode": {
    "name": "ipython",
    "version": 3
   },
   "file_extension": ".py",
   "mimetype": "text/x-python",
   "name": "python",
   "nbconvert_exporter": "python",
   "pygments_lexer": "ipython3",
   "version": "3.10.8"
  }
 },
 "nbformat": 4,
 "nbformat_minor": 5
}
