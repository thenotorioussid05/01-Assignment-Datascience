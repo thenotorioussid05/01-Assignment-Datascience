{
 "cells": [
  {
   "cell_type": "code",
   "execution_count": 1,
   "id": "66c8d3f1-2e8f-4b1b-82d0-14354bd5bb92",
   "metadata": {},
   "outputs": [],
   "source": [
    "#Question 04. Create a list of length 10 of your choice containing multiple types of data. Using for loop print the\n",
    "#element and its data type."
   ]
  },
  {
   "cell_type": "code",
   "execution_count": 2,
   "id": "78e59f15-6224-417f-94f0-b41f2e747780",
   "metadata": {},
   "outputs": [],
   "source": [
    "my_list = [1,3,44,66,'sid' , 'pwskills', 6+8j , 23.2457,True, False]"
   ]
  },
  {
   "cell_type": "code",
   "execution_count": 17,
   "id": "783e7665-8e5c-4693-a9bd-bf71dca6d7f4",
   "metadata": {},
   "outputs": [
    {
     "name": "stdout",
     "output_type": "stream",
     "text": [
      "[1, 3, 44, 66, 'sid', 'pwskills', (6+8j), 23.2457, True, False]\n"
     ]
    }
   ],
   "source": [
    "print(my_list)"
   ]
  },
  {
   "cell_type": "code",
   "execution_count": 18,
   "id": "696eab27-930a-4cdf-b8a7-551ae60b88aa",
   "metadata": {},
   "outputs": [
    {
     "name": "stdout",
     "output_type": "stream",
     "text": [
      "<class 'list'>\n"
     ]
    }
   ],
   "source": [
    "print(type(my_list))"
   ]
  },
  {
   "cell_type": "code",
   "execution_count": 6,
   "id": "f381c8f4-d020-45a0-a4dc-05eacdb4ce9f",
   "metadata": {},
   "outputs": [
    {
     "name": "stdout",
     "output_type": "stream",
     "text": [
      "1 is of <class 'list'>\n",
      "3 is of <class 'list'>\n",
      "44 is of <class 'list'>\n",
      "66 is of <class 'list'>\n",
      "sid is of <class 'list'>\n",
      "pwskills is of <class 'list'>\n",
      "(6+8j) is of <class 'list'>\n",
      "23.2457 is of <class 'list'>\n",
      "True is of <class 'list'>\n",
      "False is of <class 'list'>\n"
     ]
    }
   ],
   "source": [
    "for items  in my_list :\n",
    "      print(f\"{items} is of {type(my_list)}\")"
   ]
  },
  {
   "cell_type": "code",
   "execution_count": null,
   "id": "ec3cae8f-2c27-4e11-b6d2-67c9c64b88e7",
   "metadata": {},
   "outputs": [],
   "source": []
  },
  {
   "cell_type": "code",
   "execution_count": null,
   "id": "de986a70-0093-413a-86bc-bfb504316e2e",
   "metadata": {},
   "outputs": [],
   "source": []
  },
  {
   "cell_type": "code",
   "execution_count": null,
   "id": "d18f312c-10f3-48c0-8890-ed99e03972a6",
   "metadata": {},
   "outputs": [],
   "source": []
  }
 ],
 "metadata": {
  "kernelspec": {
   "display_name": "Python 3 (ipykernel)",
   "language": "python",
   "name": "python3"
  },
  "language_info": {
   "codemirror_mode": {
    "name": "ipython",
    "version": 3
   },
   "file_extension": ".py",
   "mimetype": "text/x-python",
   "name": "python",
   "nbconvert_exporter": "python",
   "pygments_lexer": "ipython3",
   "version": "3.10.8"
  }
 },
 "nbformat": 4,
 "nbformat_minor": 5
}
