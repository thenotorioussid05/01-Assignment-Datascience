{
 "cells": [
  {
   "cell_type": "code",
   "execution_count": 1,
   "id": "a8c297d6-0d66-4f25-a318-05900d705b31",
   "metadata": {},
   "outputs": [],
   "source": [
    "#Question 03. Given are some following variables containing data:\n",
    "#(i) var1 = ‘ ‘\n",
    "#(ii) var2 = ‘[ DS , ML , Python]’\n",
    "#(iii) var3 = [ ‘DS’ , ’ML’ , ‘Python’ ]\n",
    "#(iv) var4 = 1"
   ]
  },
  {
   "cell_type": "code",
   "execution_count": 4,
   "id": "a354bf79-fb3e-4277-9044-4e5020b57a32",
   "metadata": {},
   "outputs": [],
   "source": [
    "var1 = ''"
   ]
  },
  {
   "cell_type": "code",
   "execution_count": 5,
   "id": "22e80c5a-ba8f-490e-9404-490a5d5f2e10",
   "metadata": {},
   "outputs": [
    {
     "name": "stdout",
     "output_type": "stream",
     "text": [
      "<class 'str'>\n"
     ]
    }
   ],
   "source": [
    "print(type(var1))"
   ]
  },
  {
   "cell_type": "code",
   "execution_count": 7,
   "id": "a8bc1954-094a-45ef-a820-34034982e68f",
   "metadata": {},
   "outputs": [],
   "source": [
    "var2 = '[ DS , ML , Python]'"
   ]
  },
  {
   "cell_type": "code",
   "execution_count": 8,
   "id": "5073924c-ede0-49ad-8c49-db2cabb582da",
   "metadata": {},
   "outputs": [
    {
     "name": "stdout",
     "output_type": "stream",
     "text": [
      "<class 'str'>\n"
     ]
    }
   ],
   "source": [
    "print(type(var2))"
   ]
  },
  {
   "cell_type": "code",
   "execution_count": 9,
   "id": "1e6a4cf7-de80-4b9e-9298-1cf88fe40426",
   "metadata": {},
   "outputs": [],
   "source": [
    "var3 = [ 'DS' , 'ML' , 'Python' ]"
   ]
  },
  {
   "cell_type": "code",
   "execution_count": 10,
   "id": "b74b6ea4-e3a4-4f69-8eed-e9c1f6b439a5",
   "metadata": {},
   "outputs": [
    {
     "name": "stdout",
     "output_type": "stream",
     "text": [
      "<class 'list'>\n"
     ]
    }
   ],
   "source": [
    "print(type(var3))"
   ]
  },
  {
   "cell_type": "code",
   "execution_count": 11,
   "id": "0811ef14-63f4-4dba-92bb-a580b2e20527",
   "metadata": {},
   "outputs": [],
   "source": [
    "var4 = 1"
   ]
  },
  {
   "cell_type": "code",
   "execution_count": 12,
   "id": "9dd69132-2d3f-4423-8665-748e4b1eefea",
   "metadata": {},
   "outputs": [
    {
     "name": "stdout",
     "output_type": "stream",
     "text": [
      "<class 'int'>\n"
     ]
    }
   ],
   "source": [
    "print(type(var4))"
   ]
  },
  {
   "cell_type": "code",
   "execution_count": 14,
   "id": "1969f1ca-ff26-4b0e-a1e3-f869da984721",
   "metadata": {},
   "outputs": [],
   "source": [
    "#     THANK    YOU"
   ]
  },
  {
   "cell_type": "code",
   "execution_count": null,
   "id": "b6ea65f0-8945-4cae-860d-da7e1ac5c953",
   "metadata": {},
   "outputs": [],
   "source": []
  }
 ],
 "metadata": {
  "kernelspec": {
   "display_name": "Python 3 (ipykernel)",
   "language": "python",
   "name": "python3"
  },
  "language_info": {
   "codemirror_mode": {
    "name": "ipython",
    "version": 3
   },
   "file_extension": ".py",
   "mimetype": "text/x-python",
   "name": "python",
   "nbconvert_exporter": "python",
   "pygments_lexer": "ipython3",
   "version": "3.10.8"
  }
 },
 "nbformat": 4,
 "nbformat_minor": 5
}
