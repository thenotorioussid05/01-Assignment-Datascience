{
 "cells": [
  {
   "cell_type": "code",
   "execution_count": null,
   "id": "8eb64288-17ec-41fa-901b-69647389a8a9",
   "metadata": {},
   "outputs": [],
   "source": []
  },
  {
   "cell_type": "code",
   "execution_count": 1,
   "id": "d5a8f361-e1b7-46c8-b013-6b023a14d2e0",
   "metadata": {},
   "outputs": [
    {
     "name": "stdin",
     "output_type": "stream",
     "text": [
      "enter 44\n",
      "enter 2\n"
     ]
    },
    {
     "name": "stdout",
     "output_type": "stream",
     "text": [
      "A is divisible by B.\n",
      "A can be divided by B 2 times.\n"
     ]
    }
   ],
   "source": [
    "A = int(input(\"enter\")) \n",
    "B = int(input(\"enter\"))  \n",
    "count = 0  \n",
    "\n",
    "while A % B == 0:\n",
    "    A = A / B\n",
    "    count += 1\n",
    "\n",
    "if count > 0:\n",
    "    print(\"A is divisible by B.\")\n",
    "    print(\"A can be divided by B\", count, \"times.\")\n",
    "else:\n",
    "    print(\"A is not divisible by B.\")"
   ]
  },
  {
   "cell_type": "code",
   "execution_count": null,
   "id": "f7af663c-5e0c-42de-8854-01df4362b67c",
   "metadata": {},
   "outputs": [],
   "source": []
  }
 ],
 "metadata": {
  "kernelspec": {
   "display_name": "Python 3 (ipykernel)",
   "language": "python",
   "name": "python3"
  },
  "language_info": {
   "codemirror_mode": {
    "name": "ipython",
    "version": 3
   },
   "file_extension": ".py",
   "mimetype": "text/x-python",
   "name": "python",
   "nbconvert_exporter": "python",
   "pygments_lexer": "ipython3",
   "version": "3.10.8"
  }
 },
 "nbformat": 4,
 "nbformat_minor": 5
}
