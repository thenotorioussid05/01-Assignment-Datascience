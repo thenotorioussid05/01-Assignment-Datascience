{
 "cells": [
  {
   "cell_type": "code",
   "execution_count": 7,
   "id": "b657d63f-5568-4b72-968b-f2f4e975c4c5",
   "metadata": {},
   "outputs": [],
   "source": [
    "# Question 01. Create one variable containing following type of data:\n",
    "#(i) string\n",
    "#(ii) list\n",
    "#(iii) float\n",
    "#(iv) tuple"
   ]
  },
  {
   "cell_type": "code",
   "execution_count": 6,
   "id": "09a289db-8cad-4704-a8d6-afa9ac980605",
   "metadata": {},
   "outputs": [],
   "source": [
    "b = 'sid'"
   ]
  },
  {
   "cell_type": "code",
   "execution_count": 3,
   "id": "23f281f6-279d-4613-90f6-c3c3e0d072aa",
   "metadata": {},
   "outputs": [
    {
     "data": {
      "text/plain": [
       "str"
      ]
     },
     "execution_count": 3,
     "metadata": {},
     "output_type": "execute_result"
    }
   ],
   "source": [
    "type(b)"
   ]
  },
  {
   "cell_type": "code",
   "execution_count": 4,
   "id": "45a6c785-fb4f-4edf-bb73-7b21282a0bf1",
   "metadata": {},
   "outputs": [],
   "source": [
    "c = 69.2345678900"
   ]
  },
  {
   "cell_type": "code",
   "execution_count": 5,
   "id": "482c2c3e-6aad-463b-9fab-0229f5d7df98",
   "metadata": {},
   "outputs": [
    {
     "data": {
      "text/plain": [
       "float"
      ]
     },
     "execution_count": 5,
     "metadata": {},
     "output_type": "execute_result"
    }
   ],
   "source": [
    "type(c)"
   ]
  },
  {
   "cell_type": "code",
   "execution_count": 6,
   "id": "84be4029-9ad2-44dd-a9ca-599947ca209f",
   "metadata": {},
   "outputs": [],
   "source": [
    "c = [1,3,5,7,'sid','pwskills',6+9j]"
   ]
  },
  {
   "cell_type": "code",
   "execution_count": 15,
   "id": "6d942047-b31c-46b0-8137-d460f7f10127",
   "metadata": {},
   "outputs": [
    {
     "data": {
      "text/plain": [
       "list"
      ]
     },
     "execution_count": 15,
     "metadata": {},
     "output_type": "execute_result"
    }
   ],
   "source": [
    "type(c)"
   ]
  },
  {
   "cell_type": "code",
   "execution_count": 20,
   "id": "45065ae4-b117-47f8-8804-84112350b2b9",
   "metadata": {},
   "outputs": [],
   "source": [
    "list = [4,5,6,9]"
   ]
  },
  {
   "cell_type": "code",
   "execution_count": 21,
   "id": "fba3b039-31fe-4c45-9844-ae7e7dffe64e",
   "metadata": {},
   "outputs": [
    {
     "data": {
      "text/plain": [
       "(4, 5, 6, 9)"
      ]
     },
     "execution_count": 21,
     "metadata": {},
     "output_type": "execute_result"
    }
   ],
   "source": [
    "tuple(list)"
   ]
  },
  {
   "cell_type": "code",
   "execution_count": 9,
   "id": "cd497e93-acea-46a5-9c79-b7f06350c906",
   "metadata": {},
   "outputs": [],
   "source": [
    "#           THANK      YOU"
   ]
  },
  {
   "cell_type": "code",
   "execution_count": null,
   "id": "b35076ac-1524-4d9a-a318-7663426b3963",
   "metadata": {},
   "outputs": [],
   "source": []
  }
 ],
 "metadata": {
  "kernelspec": {
   "display_name": "Python 3 (ipykernel)",
   "language": "python",
   "name": "python3"
  },
  "language_info": {
   "codemirror_mode": {
    "name": "ipython",
    "version": 3
   },
   "file_extension": ".py",
   "mimetype": "text/x-python",
   "name": "python",
   "nbconvert_exporter": "python",
   "pygments_lexer": "ipython3",
   "version": "3.10.8"
  }
 },
 "nbformat": 4,
 "nbformat_minor": 5
}
