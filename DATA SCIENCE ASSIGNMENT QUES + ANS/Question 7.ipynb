{
 "cells": [
  {
   "cell_type": "code",
   "execution_count": 2,
   "id": "da0e29cf-bafd-462a-b202-5e3f1893c371",
   "metadata": {},
   "outputs": [],
   "source": [
    "#Question 7. What do you understand about mutable and immutable data types? Give examples for both showing\n",
    "#this property."
   ]
  },
  {
   "cell_type": "code",
   "execution_count": 12,
   "id": "28e3845c-292c-46fb-9229-e9f2eb93d550",
   "metadata": {},
   "outputs": [
    {
     "name": "stdout",
     "output_type": "stream",
     "text": [
      "[56, 20, 5, 4, 'sid', 'tutorial']\n"
     ]
    },
    {
     "ename": "NameError",
     "evalue": "name 'p' is not defined",
     "output_type": "error",
     "traceback": [
      "\u001b[0;31m---------------------------------------------------------------------------\u001b[0m",
      "\u001b[0;31mNameError\u001b[0m                                 Traceback (most recent call last)",
      "Cell \u001b[0;32mIn[12], line 16\u001b[0m\n\u001b[1;32m     11\u001b[0m \u001b[38;5;66;03m#now as u can see we creat a list and write index on it then i will change the index 5 with tutorial and it is not show any error and completely change the index this is mutable\u001b[39;00m\n\u001b[1;32m     12\u001b[0m \n\u001b[1;32m     13\u001b[0m \u001b[38;5;66;03m#The example of immutable object\u001b[39;00m\n\u001b[1;32m     15\u001b[0m A \u001b[38;5;241m=\u001b[39m \u001b[38;5;124m'\u001b[39m\u001b[38;5;124msid\u001b[39m\u001b[38;5;124m'\u001b[39m\n\u001b[0;32m---> 16\u001b[0m A[\u001b[38;5;241m2\u001b[39m]\u001b[38;5;241m=\u001b[39m\u001b[43mp\u001b[49m\n\u001b[1;32m     18\u001b[0m \u001b[38;5;66;03m#But while I try to change the index 3 in the string it show me error and cannot change this is immutable\u001b[39;00m\n",
      "\u001b[0;31mNameError\u001b[0m: name 'p' is not defined"
     ]
    }
   ],
   "source": [
    "#Changing a data on a particular index are called Mutable object like list are mutable\n",
    "#we cannot change a data on a particular object are called immutable object like strings\n",
    "\n",
    "# The example of Mutable object\n",
    "\n",
    "list = [56,20,5,4,'sid','pwskills']\n",
    "list[5]='tutorial'\n",
    "\n",
    "print(list)\n",
    "\n",
    "#now as u can see we creat a list and write index on it then i will change the index 5 with tutorial and it is not show any error and completely change the index this is mutable\n",
    "\n",
    "#The example of immutable object\n",
    "\n",
    "A = 'sid'\n",
    "A[2]=p\n",
    "\n",
    "#But while I try to change the index 3 in the string it show me error and cannot change this is immutable"
   ]
  },
  {
   "cell_type": "code",
   "execution_count": null,
   "id": "15c313f4-65dd-460c-a836-2cd27d56ddfc",
   "metadata": {},
   "outputs": [],
   "source": []
  }
 ],
 "metadata": {
  "kernelspec": {
   "display_name": "Python 3 (ipykernel)",
   "language": "python",
   "name": "python3"
  },
  "language_info": {
   "codemirror_mode": {
    "name": "ipython",
    "version": 3
   },
   "file_extension": ".py",
   "mimetype": "text/x-python",
   "name": "python",
   "nbconvert_exporter": "python",
   "pygments_lexer": "ipython3",
   "version": "3.10.8"
  }
 },
 "nbformat": 4,
 "nbformat_minor": 5
}
