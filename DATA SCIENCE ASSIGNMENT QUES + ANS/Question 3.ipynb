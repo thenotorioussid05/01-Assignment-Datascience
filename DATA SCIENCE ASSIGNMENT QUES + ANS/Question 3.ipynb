{
 "cells": [
  {
   "cell_type": "code",
   "execution_count": 1,
   "id": "3a25ed62-b40a-46e1-8a62-2d2e8bcac951",
   "metadata": {},
   "outputs": [],
   "source": [
    "#Question 03. Explain the use of the following operators using an example:\n",
    "#(i) /\n",
    "#(ii) %\n",
    "#(iii) //\n",
    "#(iv) **"
   ]
  },
  {
   "cell_type": "code",
   "execution_count": 8,
   "id": "07d7af8e-44dd-477c-8a08-f221f14a0a49",
   "metadata": {},
   "outputs": [
    {
     "data": {
      "text/plain": [
       "0"
      ]
     },
     "execution_count": 8,
     "metadata": {},
     "output_type": "execute_result"
    }
   ],
   "source": [
    "6%3"
   ]
  },
  {
   "cell_type": "code",
   "execution_count": 2,
   "id": "2cf30ff7-1c09-4614-9a6f-61d7d006ef23",
   "metadata": {},
   "outputs": [
    {
     "data": {
      "text/plain": [
       "2.0"
      ]
     },
     "execution_count": 2,
     "metadata": {},
     "output_type": "execute_result"
    }
   ],
   "source": [
    "6/3"
   ]
  },
  {
   "cell_type": "code",
   "execution_count": 3,
   "id": "cdf02015-c5b3-436b-8bbd-8b14a8751311",
   "metadata": {},
   "outputs": [
    {
     "data": {
      "text/plain": [
       "81"
      ]
     },
     "execution_count": 3,
     "metadata": {},
     "output_type": "execute_result"
    }
   ],
   "source": [
    "9**2"
   ]
  },
  {
   "cell_type": "code",
   "execution_count": 4,
   "id": "93aa9234-238c-4755-a6e6-bde8afbe7ac4",
   "metadata": {},
   "outputs": [
    {
     "data": {
      "text/plain": [
       "4"
      ]
     },
     "execution_count": 4,
     "metadata": {},
     "output_type": "execute_result"
    }
   ],
   "source": [
    "9//2"
   ]
  },
  {
   "cell_type": "code",
   "execution_count": 9,
   "id": "a95de40f-2951-4039-b63d-6e7a5ce40e29",
   "metadata": {},
   "outputs": [],
   "source": [
    "#          THANK    YOU"
   ]
  },
  {
   "cell_type": "code",
   "execution_count": null,
   "id": "73c61f5e-8af4-4e8d-8531-e41df9e750cf",
   "metadata": {},
   "outputs": [],
   "source": []
  }
 ],
 "metadata": {
  "kernelspec": {
   "display_name": "Python 3 (ipykernel)",
   "language": "python",
   "name": "python3"
  },
  "language_info": {
   "codemirror_mode": {
    "name": "ipython",
    "version": 3
   },
   "file_extension": ".py",
   "mimetype": "text/x-python",
   "name": "python",
   "nbconvert_exporter": "python",
   "pygments_lexer": "ipython3",
   "version": "3.10.8"
  }
 },
 "nbformat": 4,
 "nbformat_minor": 5
}
